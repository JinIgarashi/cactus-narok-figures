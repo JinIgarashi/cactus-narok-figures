{
 "cells": [
  {
   "cell_type": "markdown",
   "id": "79d4b75d",
   "metadata": {},
   "source": [
    "# Actual drawing process of boxplots start from here"
   ]
  },
  {
   "cell_type": "markdown",
   "id": "eed16c29",
   "metadata": {},
   "source": [
    "## Common variables for figure"
   ]
  },
  {
   "cell_type": "code",
   "execution_count": 1,
   "id": "9bbcbb5f",
   "metadata": {
    "code_folding": []
   },
   "outputs": [],
   "source": [
    "# variables\n",
    "path_excel = r'data.xlsx'\n",
    "sheet_name = 'cactus_data'\n",
    "file_path = 'images/TOC.pdf'\n",
    "dpi = 300\n",
    "\n",
    "labelFontSize = 18\n",
    "legendFontSize = 16\n",
    "\n",
    "ytickLabel = 'Total Annualised Cost per Household (TACH) Int$ (2020)'\n",
    "ytick_range = [\n",
    "    0,    # min\n",
    "    2200, # max\n",
    "    250   # interval\n",
    "]\n",
    "\n",
    "colors = [\n",
    "    '#FFD580', # light orange color\n",
    "    '#90EE90', # light green color\n",
    "    '#FF69B4', #  pink color\n",
    "    '#0096fe', # blue color\n",
    "]"
   ]
  },
  {
   "cell_type": "markdown",
   "id": "29a3542b",
   "metadata": {},
   "source": [
    "## 1. Define 10 patterns of CACTUS components' combinations. Every pattern should be consist of 3 to 4 components over the sanitation value chain"
   ]
  },
  {
   "cell_type": "code",
   "execution_count": 2,
   "id": "4be999ff",
   "metadata": {},
   "outputs": [],
   "source": [
    "combinations = [\n",
    "    [ \n",
    "        'Container', \n",
    "        None, \n",
    "        'Wheels - human- and/or machine-powered with transfer station', \n",
    "        'Aerobic FSM',\n",
    "        'Container\\nbased\\nsanitation',\n",
    "        colors[2]\n",
    "    ],\n",
    "#     [ \n",
    "#         'Container', \n",
    "#         None, \n",
    "#         'Wheels - human- and/or machine-powered with transfer station', \n",
    "#         'Anaerobic FSM',\n",
    "#         'Container, Wheels - human- and/or machine-powered with transfer station, Anaerobic FSM',\n",
    "#         colors[3]\n",
    "#     ],\n",
    "    [ \n",
    "        'Infiltrating pit', \n",
    "        None, \n",
    "        'Wheels - Machine Powered', \n",
    "        'Aerobic FSM',\n",
    "        'Infiltrating\\npit',\n",
    "        colors[2]\n",
    "    ],\n",
    "#     [ \n",
    "#         'Infiltrating pit', \n",
    "#         None, \n",
    "#         'Wheels - Machine Powered', \n",
    "#         'Anaerobic FSM',\n",
    "#         'Infiltrating pit, Wheels - Machine Powered, Anaerobic FSM',\n",
    "#         colors[3]\n",
    "#     ],\n",
    "    [ \n",
    "        'Sealed tank with infiltration structure', \n",
    "        None, \n",
    "        'Wheels - Machine Powered', \n",
    "        'Machine-powered aerobic waste water',\n",
    "        'Sealed\\ntank\\nwith\\ninfiltration\\nstructure',\n",
    "        colors[0]\n",
    "    ],\n",
    "#     [ \n",
    "#         'Sealed tank with infiltration structure', \n",
    "#         None, \n",
    "#         'Wheels - Machine Powered', \n",
    "#         'Passive aerobic waste water',\n",
    "#         'Sealed tank with infiltration structure, Wheels - Machine Powered, Passive aerobic waste water',\n",
    "#         colors[1]\n",
    "#     ],\n",
    "    [ \n",
    "        'Sealed tank without infiltration structure', \n",
    "        None, \n",
    "        'Wheels - Machine Powered', \n",
    "        'Machine-powered aerobic waste water',\n",
    "        'Sealed\\ntank',\n",
    "        colors[0]\n",
    "    ],\n",
    "#     [ \n",
    "#         'Sealed tank without infiltration structure', \n",
    "#         None, \n",
    "#         'Wheels - Machine Powered', \n",
    "#         'Passive aerobic waste water',\n",
    "#         'Sealed tank without infiltration structure, Wheels - Machine Powered, Passive aerobic waste water',\n",
    "#         colors[1]\n",
    "#     ],\n",
    "    [ \n",
    "        'Direct', \n",
    "        None, \n",
    "        'Pipes - conventional, combined, with pumping', \n",
    "        'Machine-powered aerobic waste water',\n",
    "        'Combined\\nsewer',\n",
    "        colors[0]\n",
    "    ],\n",
    "#     [ \n",
    "#         'Direct', \n",
    "#         None, \n",
    "#         'Pipes - conventional, combined, with pumping', \n",
    "#         'Passive aerobic waste water',\n",
    "#         'Direct, Conventional pipes combined with pumping, Passive aerobic waste water',\n",
    "#         colors[1]\n",
    "#     ],\n",
    "    [ \n",
    "        'Direct', \n",
    "        None, \n",
    "        'Pipes - conventional, separate, with pumping', \n",
    "        'Machine-powered aerobic waste water',\n",
    "        'Separate\\nsewer',\n",
    "        colors[0]\n",
    "    ],\n",
    "#     [ \n",
    "#         'Direct', \n",
    "#         None, \n",
    "#         'Pipes - conventional, separate, with pumping', \n",
    "#         'Passive aerobic waste water',\n",
    "#         'Direct, Conventional pipes separate with pumping, Passive aerobic waste water',\n",
    "#         colors[1]\n",
    "#     ],\n",
    "]"
   ]
  },
  {
   "cell_type": "markdown",
   "id": "7c7b4a06",
   "metadata": {},
   "source": [
    "## Importing requires python packages"
   ]
  },
  {
   "cell_type": "code",
   "execution_count": 3,
   "id": "9e0d0a08",
   "metadata": {},
   "outputs": [],
   "source": [
    "import pandas as pd\n",
    "import itertools\n",
    "import numpy as np\n",
    "\n",
    "import matplotlib.pyplot as plt\n",
    "from matplotlib.text import Text\n",
    "import textwrap\n",
    "import matplotlib.patches as mpatches\n",
    "from matplotlib.path import Path"
   ]
  },
  {
   "cell_type": "markdown",
   "id": "7fd81549",
   "metadata": {},
   "source": [
    "## Define python functions"
   ]
  },
  {
   "cell_type": "markdown",
   "id": "b04ce8b8",
   "metadata": {
    "scrolled": false
   },
   "source": [
    "### Function 1) Defining the function to get all TACHs by filtering the given component name"
   ]
  },
  {
   "cell_type": "code",
   "execution_count": 4,
   "id": "fa61a88c",
   "metadata": {
    "code_folding": []
   },
   "outputs": [],
   "source": [
    "def getTachsByComponentName(df, name):\n",
    "    \"\"\"\n",
    "    get all TACHs by filtering the given component name\n",
    "    \n",
    "    Parameters\n",
    "    ----------\n",
    "    df : dataframe\n",
    "    name: component name\n",
    "    \n",
    "    Returns\n",
    "    -------\n",
    "        the list of TACH values for the given component\n",
    "    \"\"\"\n",
    "    if not name:\n",
    "        return []\n",
    "    filter = df.component == name\n",
    "#     values = list(df[filter]['tach'])\n",
    "\n",
    "    filtered_df = df[filter]\n",
    "    # Calculate the IQR for the 'tach' column\n",
    "    q1 = filtered_df['tach'].quantile(0.25)\n",
    "    q3 = filtered_df['tach'].quantile(0.75)\n",
    "    iqr = q3 - q1\n",
    "\n",
    "    # Define the lower and upper bounds for values within the IQR\n",
    "    lower_bound = q1 - 1.5 * iqr\n",
    "    upper_bound = q3 + 1.5 * iqr\n",
    "\n",
    "    # Filter the 'tach' values within the IQR bounds\n",
    "    values = filtered_df[(filtered_df['tach'] >= lower_bound) & (filtered_df['tach'] <= upper_bound)]['tach']\n",
    "\n",
    "    return values"
   ]
  },
  {
   "cell_type": "markdown",
   "id": "b7b7428a",
   "metadata": {},
   "source": [
    "### Function 2)  Defining the function to estimate lifecycle cost by given combination of CACTUS components\n",
    "\n",
    "This function is going to estimate full lifecycle cost by the givern component names (containment, emptying, transporting and treatment)\n",
    "- extract the list of TACH values by component names\n",
    "- generate cartesian products by all list of values of three to four components.\n",
    "- estimate SUM value for each combination"
   ]
  },
  {
   "cell_type": "code",
   "execution_count": 5,
   "id": "d4c3ed9d",
   "metadata": {
    "code_folding": []
   },
   "outputs": [],
   "source": [
    "def getLifecycleCostsbyCombination(df, container_name, emptying_name, transport_name, treatment_name, label, color):\n",
    "    \"\"\"\n",
    "    Estimate lifecycle cost by given combination of CACTUS components\n",
    "    \n",
    "    Parameters\n",
    "    ----------\n",
    "    df : dataframe\n",
    "    container_name: container component name\n",
    "    emptying_name: emptying component name (if no, set NULL)\n",
    "    transport_name: transport component name (or E&T component name)\n",
    "    treatment_name: treatment component name\n",
    "    label: label to be appeared in figure\n",
    "    color: color for boxplot\n",
    "    \n",
    "    Returns\n",
    "    -------\n",
    "        returns the dataframe of containing data label and full lifecycle cost values\n",
    "    \"\"\"\n",
    "    # extract the list of TACH values by component names\n",
    "    container = getTachsByComponentName(df, container_name)\n",
    "    transport = getTachsByComponentName(df, transport_name)\n",
    "    treatment = getTachsByComponentName(df, treatment_name)\n",
    "\n",
    "    # generate cartesian products by all list of values of three to four components.\n",
    "    if emptying_name:\n",
    "        emptying = getTachsByComponentName(df, emptying_name)\n",
    "        \n",
    "        if len(transport) > 0:\n",
    "            combinations = list(itertools.product(container, emptying, transport, treatment))  \n",
    "        else:\n",
    "            combinations = list(itertools.product(container, emptying, treatment))  \n",
    "    else:\n",
    "        if len(transport) > 0:\n",
    "            combinations = list(itertools.product(container, transport, treatment))\n",
    "        else:\n",
    "            combinations = list(itertools.product(container, treatment))\n",
    "        \n",
    "    # estimate SUM value for each combination\n",
    "    sum_array = [round(sum(combination),0) for combination in combinations]  \n",
    "    sum_array = list(set(sum_array))\n",
    "    \n",
    "    # set label in dataframe\n",
    "    if label:\n",
    "        name = label\n",
    "    else:\n",
    "        if emptying_name:\n",
    "            name = f\"{container_name}, {emptying_name}, {transport_name} and {treatment_name}\"\n",
    "        else:\n",
    "            name = f\"{container_name}, {transport_name} and {treatment_name}\"\n",
    "    names = np.full(len(sum_array), name)\n",
    "    \n",
    "    result_df = pd.DataFrame({'name': names, 'tach': sum_array, 'color': color})\n",
    "\n",
    "    return result_df"
   ]
  },
  {
   "cell_type": "markdown",
   "id": "319ffb32",
   "metadata": {},
   "source": [
    "### Function 3) Defining the function to show data label"
   ]
  },
  {
   "cell_type": "code",
   "execution_count": 6,
   "id": "6a460e97",
   "metadata": {
    "code_folding": [
     0
    ]
   },
   "outputs": [],
   "source": [
    "def showLabel(ax, x, y, value):\n",
    "    \"\"\"\n",
    "    Draw data label in the givern X/Y coordinates on the canvas\n",
    "    \n",
    "    Parameters\n",
    "    ----------\n",
    "    ax : figure canvas object\n",
    "    x: x coordinate\n",
    "    y: y coordinate\n",
    "    value: data value to be shown as label\n",
    "    \"\"\"\n",
    "    ax.text(x, y, f\"{value:.0f}\", ha='center', va='center', fontsize=14)"
   ]
  },
  {
   "cell_type": "markdown",
   "id": "2cc6821f",
   "metadata": {},
   "source": [
    "### Function 4) Defining the function to draw boxplot in canvas"
   ]
  },
  {
   "cell_type": "code",
   "execution_count": 7,
   "id": "9966b142",
   "metadata": {
    "code_folding": []
   },
   "outputs": [],
   "source": [
    "def drawBoxplot(ax, tachs, position, color, showmeans=True, showfliers=False):\n",
    "    \"\"\"\n",
    "    Draw boxplot by given TACH values in the specified position\n",
    "    \n",
    "    Parameters\n",
    "    ----------\n",
    "    ax : figure canvas object\n",
    "    tachs: the list of TACH values\n",
    "    position: the integer value for the position to draw boxplot\n",
    "    color: color of boxplot. eg., 'red', 'blue', etc.\n",
    "    showmeans: show means in boxplot\n",
    "    showfliers: show outlier values in boxplot\n",
    "    \"\"\"\n",
    "    \n",
    "    size = len(tachs)\n",
    "    linestyle = '-'\n",
    "\n",
    "    if size == 1:\n",
    "        # If only has 1 value, plot it as marker\n",
    "        ax.plot(position, tachs, marker='o', color='k', markersize=6)\n",
    "    else:\n",
    "        # draw box plots if it has more than two values\n",
    "        violin = ax.violinplot(\n",
    "            tachs, \n",
    "            showmeans=False,\n",
    "            showmedians=True,\n",
    "            positions=[position],\n",
    "        )\n",
    "        \n",
    "        for partname in ('cmaxes', 'cmins'):\n",
    "            vp = violin[partname]\n",
    "            vp.set_visible(False)\n",
    "    \n",
    "        for partname in ('cbars', 'cmedians'):\n",
    "            vp = violin[partname]\n",
    "            vp.set_edgecolor(\"black\")\n",
    "            vp.set_linewidth(0.4)\n",
    "        \n",
    "        for pc in violin['bodies']:\n",
    "            pc.set_facecolor(color)\n",
    "            pc.set_edgecolor(color)\n",
    "        "
   ]
  },
  {
   "cell_type": "markdown",
   "id": "fe93a85c",
   "metadata": {},
   "source": [
    "## Read the data from EXCEL sheet"
   ]
  },
  {
   "cell_type": "code",
   "execution_count": 8,
   "id": "d6a00419",
   "metadata": {
    "code_folding": [
     0
    ]
   },
   "outputs": [],
   "source": [
    "df_all = pd.read_excel(\n",
    "    path_excel, \n",
    "    sheet_name=sheet_name,\n",
    ")"
   ]
  },
  {
   "cell_type": "markdown",
   "id": "6d49bd27",
   "metadata": {},
   "source": [
    "## 2. Extract TACH values for each component and summing full lifecycle costs for all combinations for each pattern defined in step 1 "
   ]
  },
  {
   "cell_type": "code",
   "execution_count": 9,
   "id": "fcb9252f",
   "metadata": {},
   "outputs": [
    {
     "name": "stdout",
     "output_type": "stream",
     "text": [
      "Container\n",
      "based\n",
      "sanitation: 10 values\n",
      "Infiltrating\n",
      "pit: 556 values\n",
      "Sealed\n",
      "tank\n",
      "with\n",
      "infiltration\n",
      "structure: 577 values\n",
      "Sealed\n",
      "tank: 407 values\n",
      "Combined\n",
      "sewer: 462 values\n",
      "Separate\n",
      "sewer: 412 values\n"
     ]
    }
   ],
   "source": [
    "dfs = []\n",
    "for combination in combinations:\n",
    "#     df_original = combination[0]\n",
    "    container = combination[0]\n",
    "    emptying = combination[1]\n",
    "    transport = combination[2]\n",
    "    treatment = combination[3]\n",
    "    label = combination[4]\n",
    "    color = combination[5]\n",
    "\n",
    "    df_combination = getLifecycleCostsbyCombination(\n",
    "        df_all, \n",
    "        container, \n",
    "        emptying, \n",
    "        transport, \n",
    "        treatment, \n",
    "        label, \n",
    "        color)\n",
    "    \n",
    "    print(f\"{label}: {len(df_combination)} values\")\n",
    "    \n",
    "    dfs.append(df_combination)"
   ]
  },
  {
   "cell_type": "markdown",
   "id": "2dad8f5f",
   "metadata": {},
   "source": [
    "### 2.1 Join all 10 dataframes into one dataframe"
   ]
  },
  {
   "cell_type": "code",
   "execution_count": 10,
   "id": "ed3e34b2",
   "metadata": {},
   "outputs": [
    {
     "name": "stdout",
     "output_type": "stream",
     "text": [
      "                             name    tach    color\n",
      "0    Container\\nbased\\nsanitation   227.0  #FF69B4\n",
      "1    Container\\nbased\\nsanitation   231.0  #FF69B4\n",
      "2    Container\\nbased\\nsanitation   232.0  #FF69B4\n",
      "3    Container\\nbased\\nsanitation   236.0  #FF69B4\n",
      "4    Container\\nbased\\nsanitation   239.0  #FF69B4\n",
      "..                            ...     ...      ...\n",
      "407               Separate\\nsewer  1247.0  #FFD580\n",
      "408               Separate\\nsewer  1254.0  #FFD580\n",
      "409               Separate\\nsewer  1259.0  #FFD580\n",
      "410               Separate\\nsewer  1276.0  #FFD580\n",
      "411               Separate\\nsewer  1287.0  #FFD580\n",
      "\n",
      "[2424 rows x 3 columns]\n"
     ]
    }
   ],
   "source": [
    "df = pd.concat(dfs, axis=0)\n",
    "print(df)"
   ]
  },
  {
   "cell_type": "markdown",
   "id": "534f9297",
   "metadata": {},
   "source": [
    "### 2.2 Extract group labels from dataframe"
   ]
  },
  {
   "cell_type": "code",
   "execution_count": 11,
   "id": "8a889bda",
   "metadata": {},
   "outputs": [
    {
     "name": "stdout",
     "output_type": "stream",
     "text": [
      "The following 6 combinations' full lifecycle costs will be included:\n",
      "1: Container\n",
      "based\n",
      "sanitation - 10 values\n",
      "2: Infiltrating\n",
      "pit - 556 values\n",
      "3: Sealed\n",
      "tank\n",
      "with\n",
      "infiltration\n",
      "structure - 577 values\n",
      "4: Sealed\n",
      "tank - 407 values\n",
      "5: Combined\n",
      "sewer - 462 values\n",
      "6: Separate\n",
      "sewer - 412 values\n"
     ]
    }
   ],
   "source": [
    "groups = df.groupby('name', sort=False)\n",
    "group_labels = list(groups.groups.keys())\n",
    "\n",
    "print(f\"The following {len(group_labels)} combinations' full lifecycle costs will be included:\")\n",
    "for index, label in enumerate(group_labels, start=1):\n",
    "    group_size = groups.get_group(label).shape[0]\n",
    "    print(f\"{index}: {label} - {group_size} values\")"
   ]
  },
  {
   "cell_type": "markdown",
   "id": "ec585abb",
   "metadata": {},
   "source": [
    "## 3. Draw boxplots from the result of step 3"
   ]
  },
  {
   "cell_type": "code",
   "execution_count": 17,
   "id": "0cafb379",
   "metadata": {},
   "outputs": [
    {
     "name": "stdout",
     "output_type": "stream",
     "text": [
      "1: Draw 10 of TACH values for Container\n",
      "based\n",
      "sanitation\n",
      "2: Draw 556 of TACH values for Infiltrating\n",
      "pit\n",
      "3: Draw 577 of TACH values for Sealed\n",
      "tank\n",
      "with\n",
      "infiltration\n",
      "structure\n",
      "4: Draw 407 of TACH values for Sealed\n",
      "tank\n",
      "5: Draw 462 of TACH values for Combined\n",
      "sewer\n",
      "6: Draw 412 of TACH values for Separate\n",
      "sewer\n"
     ]
    },
    {
     "data": {
      "image/png": "[encoded data removed]",
      "text/plain": [
       "<Figure size 325x175 with 1 Axes>"
      ]
     },
     "metadata": {},
     "output_type": "display_data"
    }
   ],
   "source": [
    "# create canvas to draw figure\n",
    "fig, ax = plt.subplots(figsize=(3.25, 1.75))\n",
    "\n",
    "plt.rcParams['font.sans-serif'] = \"Helvetica\"\n",
    "plt.rcParams['font.family'] = \"sans-serif\"\n",
    "plt.rcParams['font.size'] = 8\n",
    "\n",
    "# put background color as white\n",
    "fig.patch.set_facecolor('white') \n",
    "\n",
    "# set Y axis ranges\n",
    "ax.set_ylim(ytick_range[0], ytick_range[1])  \n",
    "ax.set_yticks(np.arange(250, 750,250))\n",
    "\n",
    "# draw horizontal lines for each 250 Int$\n",
    "for ylabel in np.arange(0,1500,250):\n",
    "    ax.axhline(y=ylabel, color='lightgray', linewidth=0.5)\n",
    "\n",
    "ax.axvline(x=1.5, color='k', linestyle=':', linewidth=0.5, zorder=0)\n",
    "ax.axvline(x=2.5, color='k', linestyle=':', linewidth=0.5, zorder=0)\n",
    "ax.axvline(x=3.5, color='k', linestyle=':', linewidth=0.5, zorder=0)\n",
    "ax.axvline(x=4.5, color='k', linestyle=':', linewidth=0.5, zorder=0)\n",
    "\n",
    "    \n",
    "# Loop by the above 10 groups\n",
    "for j, group in enumerate(groups):\n",
    "    label = group_labels[j]\n",
    "    tachs = group[1]['tach']\n",
    "    color = group[1]['color'][0]\n",
    "    position = j + 1\n",
    "    print(f\"{position}: Draw {len(tachs)} of TACH values for {label}\")\n",
    "    drawBoxplot(ax, tachs, position, color)\n",
    "    \n",
    "# draw labels for xticks.\n",
    "# only show emptying & tranport in x axis label\n",
    "xtick_labels = [ label for label in group_labels ]\n",
    "ax.set_xticks(np.arange(len(xtick_labels)) + 1)\n",
    "ax.set_xticklabels(xtick_labels,  rotation=0, ha='center', fontsize=6)\n",
    "\n",
    "ax.fill_between([0.5, 1.5], 1800, 2100, color='#90EE90', alpha=0.8)\n",
    "ax.fill_between([1.5, 3.5], 1800, 2100, color='#FF69B4', alpha=0.8)\n",
    "ax.fill_between([3.5, 6.5], 1800, 2100, color='#90EE90', alpha=0.8)\n",
    "ax.fill_between([0.5, 6.5], 1580, 1720, color='lightgray', alpha=0.8)\n",
    "ax.fill_between([3.5, 6.5], 1380, 1520, color='lightgray', alpha=0.8)\n",
    "ax.fill_between([4.4, 5.7], 1180, 1320, color='lightgray', alpha=0.8)\n",
    "\n",
    "ax.text(1, 1950, 'Safely\\nmanaged', fontsize=6, ha='center', va='center')\n",
    "ax.text(2.5, 1950, 'Not safely\\nmanaged', fontsize=6, ha='center', va='center')\n",
    "ax.text(5.0, 1930, 'safely managed', fontsize=6, ha='center', va='center')\n",
    "\n",
    "ax.text(3, 1630, 'Blackwater', fontsize=6, ha='left', va='center')\n",
    "ax.text(4.5, 1450, 'Greywater', fontsize=6, ha='left', va='center')\n",
    "ax.text(4.5, 1250, 'Stormwater', fontsize=6, ha='left', va='center')\n",
    "\n",
    "\n",
    "# draw legend\n",
    "legend_labels = [\n",
    "    'Machine-powered\\naerobic wastewater',\n",
    "    'Aerobic FSM',\n",
    "]\n",
    "legend_colors = [colors[0], colors[2]]\n",
    "legend_patches = [mpatches.Patch(color=color, label=label) for color, label in zip(legend_colors, legend_labels)]\n",
    "legend = ax.legend(handles=legend_patches, loc='upper right', fontsize=6, bbox_to_anchor=(1.01, -0.2))\n",
    "legend.set_title(\"Treatment\", prop={'size': 6.5})\n",
    "\n",
    "plt.title('Total cost liability per household per year\\nfor whole sanitation value chain, International $ (2020)', fontsize=7)\n",
    "\n",
    "bbox_props = dict(boxstyle='round', facecolor='white', edgecolor='black', alpha=1.0)\n",
    "\n",
    "ax.text(0.9, -1100, 'Emptying\\n+transfer station', fontsize=6, ha='center', va='center', bbox=bbox_props)\n",
    "ax.text(2.9, -1100, 'Mechanical emptying\\n+ transport', fontsize=6, ha='center', va='center', bbox=bbox_props)\n",
    "\n",
    "\n",
    "# save figures as PDF and PNG\n",
    "plt.savefig(file_path, format=\"pdf\", dpi=dpi, transparent=True, bbox_inches='tight')\n",
    "plt.savefig(f\"{file_path}.png\", format=\"png\", dpi=dpi, transparent=True, bbox_inches='tight')\n",
    "plt.show()"
   ]
  },
  {
   "cell_type": "code",
   "execution_count": null,
   "id": "3266dafa",
   "metadata": {},
   "outputs": [],
   "source": []
  }
 ],
 "metadata": {
  "kernelspec": {
   "display_name": "Python 3 (ipykernel)",
   "language": "python",
   "name": "python3"
  },
  "language_info": {
   "codemirror_mode": {
    "name": "ipython",
    "version": 3
   },
   "file_extension": ".py",
   "mimetype": "text/x-python",
   "name": "python",
   "nbconvert_exporter": "python",
   "pygments_lexer": "ipython3",
   "version": "3.9.12"
  }
 },
 "nbformat": 4,
 "nbformat_minor": 5
}
